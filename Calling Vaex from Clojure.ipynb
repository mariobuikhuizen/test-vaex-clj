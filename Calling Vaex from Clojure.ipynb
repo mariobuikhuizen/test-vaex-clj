{
 "cells": [
  {
   "cell_type": "code",
   "execution_count": null,
   "metadata": {},
   "outputs": [],
   "source": [
    "\"Hello world\""
   ]
  },
  {
   "cell_type": "code",
   "execution_count": null,
   "metadata": {},
   "outputs": [],
   "source": [
    "%classpath add mvn cnuernber libpython-clj 1.23"
   ]
  },
  {
   "cell_type": "code",
   "execution_count": null,
   "metadata": {},
   "outputs": [],
   "source": [
    "(require '[libpython-clj.python :as py])"
   ]
  },
  {
   "cell_type": "code",
   "execution_count": null,
   "metadata": {},
   "outputs": [],
   "source": [
    "(py/initialize!)"
   ]
  },
  {
   "cell_type": "code",
   "execution_count": null,
   "metadata": {},
   "outputs": [],
   "source": [
    "(py/run-simple-string \"print('printed from python!')\")\n",
    "(println) ;flush *out*. Somehow necessary in the context of the notebook"
   ]
  },
  {
   "cell_type": "code",
   "execution_count": null,
   "metadata": {},
   "outputs": [],
   "source": [
    ";; import vaex\n",
    "(defonce vaex (py/import-module \"vaex\"))"
   ]
  },
  {
   "cell_type": "code",
   "execution_count": null,
   "metadata": {},
   "outputs": [],
   "source": [
    ";; df = vaex.example()\n",
    "(defonce df (py/call-attr vaex \"example\"))"
   ]
  },
  {
   "cell_type": "code",
   "execution_count": null,
   "metadata": {},
   "outputs": [],
   "source": [
    "df"
   ]
  },
  {
   "cell_type": "code",
   "execution_count": null,
   "metadata": {},
   "outputs": [],
   "source": [
    ";; df_negative = ds[ds.x < 0]\n",
    "(def df-negative (py/get-item df (py/call-attr (py/get-attr df \"x\") \"__lt__\" 0)))\n",
    "df-negative"
   ]
  },
  {
   "cell_type": "code",
   "execution_count": null,
   "metadata": {},
   "outputs": [],
   "source": [
    ";; First attempt on some syntactic sugar\n",
    "(require '[clojure.core :as core])\n",
    "\n",
    "(defonce builtins (py/import-module \"builtins\"))\n",
    "\n",
    "(defn expr [df column operator rest]\n",
    "  (let [lookup {< \"__lt__\"\n",
    "                > \"__gt__\"}\n",
    "        operator (or (get lookup operator) operator)]\n",
    "    (py/call-attr\n",
    "      (py/get-attr df column)\n",
    "      operator rest)))\n",
    "\n",
    "(defn df-filter [column operator value df]\n",
    "  (py/get-item\n",
    "    df\n",
    "    (expr df column operator value)))\n",
    "\n",
    "(defn df-select-columns [col df]\n",
    "  (py/get-item df col))\n",
    "\n",
    "(defn slice [df start stop step]\n",
    "  (py/get-item\n",
    "    df\n",
    "    (py/call-attr\n",
    "      builtins\n",
    "      \"slice\" start stop step)))\n",
    "\n",
    "(defn __getitem__? [obj] (py/has-attr? obj \"__getitem__\"))\n",
    "\n",
    "(defn take [n col]\n",
    "  (if (__getitem__? col)\n",
    "    (slice col nil, n, nil)\n",
    "    (core/take n col)))\n",
    "\n",
    "(defn drop [n col]\n",
    "  (if (__getitem__? col)\n",
    "    (slice col n, nil, nil)\n",
    "    (core/drop n col)))\n",
    "\n",
    "(defn take-nth [n col]\n",
    "  (if (__getitem__? col)\n",
    "    (slice col nil, nil, n) ;; Not yet supported in Vaex\n",
    "    (core/take-nth n col)))"
   ]
  },
  {
   "cell_type": "code",
   "execution_count": null,
   "metadata": {},
   "outputs": [],
   "source": [
    ";; idiomatic-ish clojure :-)\n",
    "(->>\n",
    "    df\n",
    "    (df-filter \"x\" < 0)\n",
    "    (df-filter \"y\" > 10)\n",
    "    (drop 1)\n",
    "    (take 5)\n",
    "    (df-select-columns [\"x\" \"y\"]))"
   ]
  }
 ],
 "metadata": {
  "kernelspec": {
   "display_name": "Clojure",
   "language": "clojure",
   "name": "clojure"
  },
  "language_info": {
   "codemirror_mode": "Clojure",
   "file_extension": ".clj",
   "mimetype": "text/x-clojure",
   "name": "Clojure",
   "nbconverter_exporter": "",
   "version": "1.9.0"
  },
  "toc": {
   "base_numbering": 1,
   "nav_menu": {},
   "number_sections": false,
   "sideBar": false,
   "skip_h1_title": false,
   "title_cell": "Table of Contents",
   "title_sidebar": "Contents",
   "toc_cell": false,
   "toc_position": {},
   "toc_section_display": false,
   "toc_window_display": false
  }
 },
 "nbformat": 4,
 "nbformat_minor": 2
}
